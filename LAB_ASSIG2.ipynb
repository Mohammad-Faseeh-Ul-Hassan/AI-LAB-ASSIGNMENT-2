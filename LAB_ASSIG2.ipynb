{
  "nbformat": 4,
  "nbformat_minor": 0,
  "metadata": {
    "colab": {
      "provenance": [],
      "mount_file_id": "1GJF4rjEQsmW7pF3n1cPFDb8zByVgy7py",
      "authorship_tag": "ABX9TyMcLp7CnKHrRZ+wtm2UQCG3",
      "include_colab_link": true
    },
    "kernelspec": {
      "name": "python3",
      "display_name": "Python 3"
    },
    "language_info": {
      "name": "python"
    }
  },
  "cells": [
    {
      "cell_type": "markdown",
      "metadata": {
        "id": "view-in-github",
        "colab_type": "text"
      },
      "source": [
        "<a href=\"https://colab.research.google.com/github/Mohammad-Faseeh-Ul-Hassan/AI-LAB-ASSIGNMENT-2/blob/main/LAB_ASSIG2.ipynb\" target=\"_parent\"><img src=\"https://colab.research.google.com/assets/colab-badge.svg\" alt=\"Open In Colab\"/></a>"
      ]
    },
    {
      "cell_type": "markdown",
      "source": [
        "# **Group Member**\n",
        "\n",
        "*   Mohammad Faseeh Ul Hassan\n",
        "*   Haseeb Bhatti\n",
        "*   Huzaifa Saad\n",
        "*   Hasnain Khan\n",
        "*   Zahid Rehmat\n",
        "\n",
        "\n",
        "#**Lab Assignment:2**\n",
        "\n",
        "\n",
        "\n"
      ],
      "metadata": {
        "id": "Gv5ScMvRJ15K"
      }
    },
    {
      "cell_type": "markdown",
      "source": [
        "\n",
        "#Task 1\n",
        "a. Constraint Satisfaction Implement the Backtracking algorithm to solve the Australian Map Coloring problem"
      ],
      "metadata": {
        "id": "ndHTK-I6Dj1y"
      }
    },
    {
      "cell_type": "code",
      "execution_count": null,
      "metadata": {
        "colab": {
          "base_uri": "https://localhost:8080/"
        },
        "id": "FGFHGRqPicav",
        "outputId": "dbae6d7f-152f-489c-ccc3-2514b9777b35"
      },
      "outputs": [
        {
          "output_type": "stream",
          "name": "stdout",
          "text": [
            "{'Western Australia': 'red', 'Northern Territory': 'green', 'South Australia': 'blue', 'Queensland': 'red', 'New South Wales': 'green', 'Victoria': 'red', 'Tasmania': 'green'}\n"
          ]
        }
      ],
      "source": [
        "class Constraint:\n",
        "    def __init__(self, variables):\n",
        "        self.variables = variables\n",
        "\n",
        "    def satisfied(self, assignment):\n",
        "        raise NotImplementedError(\"This method should be overridden in subclasses.\")\n",
        "\n",
        "class MapColoringConstraint(Constraint):\n",
        "    def __init__(self, place1, place2):\n",
        "        super().__init__([place1, place2])\n",
        "        self.place1 = place1\n",
        "        self.place2 = place2\n",
        "\n",
        "    def satisfied(self, assignment):\n",
        "        if self.place1 not in assignment or self.place2 not in assignment:\n",
        "            return True\n",
        "        return assignment[self.place1] != assignment[self.place2]\n",
        "\n",
        "class CSP:\n",
        "    def __init__(self, variables, domains):\n",
        "        self.variables = variables\n",
        "        self.domains = domains\n",
        "        self.constraints = {}\n",
        "\n",
        "        for variable in self.variables:\n",
        "            self.constraints[variable] = []\n",
        "\n",
        "    def add_constraint(self, constraint):\n",
        "        for variable in constraint.variables:\n",
        "            if variable not in self.variables:\n",
        "                raise ValueError(\"Variable in constraint not in CSP\")\n",
        "            self.constraints[variable].append(constraint)\n",
        "\n",
        "    def consistent(self, variable, assignment):\n",
        "        for constraint in self.constraints[variable]:\n",
        "            if not constraint.satisfied(assignment):\n",
        "                return False\n",
        "        return True\n",
        "\n",
        "    def backtracking_search(self, assignment={}):\n",
        "        if len(assignment) == len(self.variables):\n",
        "            return assignment\n",
        "\n",
        "        unassigned = [v for v in self.variables if v not in assignment]\n",
        "        first = unassigned[0]\n",
        "        for value in self.domains[first]:\n",
        "            local_assignment = assignment.copy()\n",
        "            local_assignment[first] = value\n",
        "            if self.consistent(first, local_assignment):\n",
        "                result = self.backtracking_search(local_assignment)\n",
        "                if result is not None:\n",
        "                    return result\n",
        "        return None\n",
        "\n",
        "variables = [\"Western Australia\", \"Northern Territory\", \"South Australia\",\n",
        "             \"Queensland\", \"New South Wales\", \"Victoria\", \"Tasmania\"]\n",
        "domains = {}\n",
        "for variable in variables:\n",
        "    domains[variable] = [\"red\", \"green\", \"blue\"]\n",
        "\n",
        "csp = CSP(variables, domains)\n",
        "csp.add_constraint(MapColoringConstraint(\n",
        "    \"Western Australia\", \"Northern Territory\"))\n",
        "csp.add_constraint(MapColoringConstraint(\n",
        "    \"Western Australia\", \"South Australia\"))\n",
        "csp.add_constraint(MapColoringConstraint(\n",
        "    \"South Australia\", \"Northern Territory\"))\n",
        "csp.add_constraint(MapColoringConstraint(\"Queensland\", \"Northern Territory\"))\n",
        "csp.add_constraint(MapColoringConstraint(\"Queensland\", \"South Australia\"))\n",
        "csp.add_constraint(MapColoringConstraint(\"Queensland\", \"New South Wales\"))\n",
        "csp.add_constraint(MapColoringConstraint(\"New South Wales\", \"South Australia\"))\n",
        "csp.add_constraint(MapColoringConstraint(\"Victoria\", \"South Australia\"))\n",
        "csp.add_constraint(MapColoringConstraint(\"Victoria\", \"New South Wales\"))\n",
        "csp.add_constraint(MapColoringConstraint(\"Victoria\", \"Tasmania\"))\n",
        "\n",
        "solution = csp.backtracking_search()\n",
        "if solution is None:\n",
        "    print(\"No solution found!\")\n",
        "else:\n",
        "    print(solution)"
      ]
    },
    {
      "cell_type": "markdown",
      "source": [
        "#**Task 2**\n",
        "a. Supervised Machine Learning with KNN\n",
        "Implement the k-Nearest Neighbors (KNN) algorithm for\n",
        "supervised learning. Use Scikit-learn to implement the KNN algorithm for classification tasks. Evaluate the performance of the KNN model on your choice datasets."
      ],
      "metadata": {
        "id": "7Q5OIUjGEDQL"
      }
    },
    {
      "cell_type": "markdown",
      "source": [
        "**Step-1**\n",
        "**Load and Explore the Dataset**"
      ],
      "metadata": {
        "id": "MBrosvfSEftn"
      }
    },
    {
      "cell_type": "code",
      "source": [
        "import pandas as pd\n",
        "from sklearn.model_selection import train_test_split\n",
        "from sklearn.preprocessing import LabelEncoder\n",
        "\n",
        "dataset = pd.read_csv('/content/drive/MyDrive/dataset/affirmative_asylum dataset.csv')\n",
        "\n",
        "print(dataset.info())\n",
        "print(dataset.head())\n",
        "\n",
        "label_encoders = {}\n",
        "for column in dataset.select_dtypes(include=['object']).columns:\n",
        "    label_encoders[column] = LabelEncoder()\n",
        "    dataset[column] = label_encoders[column].fit_transform(dataset[column])\n",
        "\n",
        "print(dataset.head())\n"
      ],
      "metadata": {
        "colab": {
          "base_uri": "https://localhost:8080/"
        },
        "id": "qGfPbhZQ5bjb",
        "outputId": "e8bbb6ce-e5a2-4e8c-81cc-1535e228b6b4"
      },
      "execution_count": 17,
      "outputs": [
        {
          "output_type": "stream",
          "name": "stdout",
          "text": [
            "<class 'pandas.core.frame.DataFrame'>\n",
            "RangeIndex: 109 entries, 0 to 108\n",
            "Data columns (total 11 columns):\n",
            " #   Column                            Non-Null Count  Dtype \n",
            "---  ------                            --------------  ----- \n",
            " 0   Continent/Country of Nationality  109 non-null    object\n",
            " 1   2006                              109 non-null    object\n",
            " 2   2007                              109 non-null    object\n",
            " 3   2008                              109 non-null    object\n",
            " 4   2009                              109 non-null    object\n",
            " 5   2010                              109 non-null    object\n",
            " 6   2011                              109 non-null    object\n",
            " 7   2012                              109 non-null    object\n",
            " 8   2013                              109 non-null    object\n",
            " 9   2014                              109 non-null    object\n",
            " 10  2015                              109 non-null    object\n",
            "dtypes: object(11)\n",
            "memory usage: 9.5+ KB\n",
            "None\n",
            "  Continent/Country of Nationality   2006   2007   2008   2009   2010   2011  \\\n",
            "0                           Africa  2,112  2,567  2,686  2,852  2,666  3,055   \n",
            "1                             Asia  3,340  4,446  4,846  5,556  5,421  6,467   \n",
            "2                           Europe    553    672    755    812    729    961   \n",
            "3                    North America  3,600  2,243  1,753  1,484  1,421  1,543   \n",
            "4                          Oceania     18     27     23     18      8     19   \n",
            "\n",
            "    2012   2013   2014   2015  \n",
            "0  5,054  4,860  4,303  3,724  \n",
            "1  8,031  7,528  7,429  6,652  \n",
            "2  1,213    778    571    729  \n",
            "3  1,649  1,143  1,594  5,811  \n",
            "4     20     10     21      4  \n",
            "   Continent/Country of Nationality  2006  2007  2008  2009  2010  2011  2012  \\\n",
            "0                                 1    20    27    21    24    23    34    52   \n",
            "1                                 6    33    48    44    55    53    58    69   \n",
            "2                                36    53    66    64    70    65    74     1   \n",
            "3                                75    35    25     2     2     1     2     3   \n",
            "4                                76    17    34    26    18    68    25    26   \n",
            "\n",
            "   2013  2014  2015  \n",
            "0    35    40    27  \n",
            "1    58    62    52  \n",
            "2    63    53    65  \n",
            "3     1     0    47  \n",
            "4     2    18    37  \n"
          ]
        }
      ]
    },
    {
      "cell_type": "markdown",
      "source": [
        "**Step-2**\n",
        "**Split the Data**"
      ],
      "metadata": {
        "id": "-GYyf-WCE4Mm"
      }
    },
    {
      "cell_type": "code",
      "source": [
        "X = dataset.drop(\"2009\", axis=1)\n",
        "y = dataset[\"2009\"]\n",
        "\n",
        "X_train, X_test, y_train, y_test = train_test_split(X, y, test_size=0.2, random_state=42)\n"
      ],
      "metadata": {
        "id": "Cv2qlQjX5xY2"
      },
      "execution_count": 25,
      "outputs": []
    },
    {
      "cell_type": "markdown",
      "source": [
        "**Step-3**\n",
        "**Implement the KNN Algorithm**"
      ],
      "metadata": {
        "id": "xEFLTp8tFQxb"
      }
    },
    {
      "cell_type": "code",
      "source": [
        "from sklearn.neighbors import KNeighborsClassifier\n",
        "\n",
        "knn = KNeighborsClassifier(n_neighbors=5)\n",
        "\n",
        "knn.fit(X_train, y_train)\n",
        "\n",
        "y_pred = knn.predict(X_test)\n"
      ],
      "metadata": {
        "id": "LlmD6A4s6CSx"
      },
      "execution_count": 21,
      "outputs": []
    },
    {
      "cell_type": "markdown",
      "source": [
        "**Step-4**\n",
        "**Evaluate the Performance**"
      ],
      "metadata": {
        "id": "NsY1kH8wFZyF"
      }
    },
    {
      "cell_type": "code",
      "source": [
        "from sklearn.metrics import accuracy_score, classification_report, confusion_matrix\n",
        "\n",
        "print(\"Accuracy:\", accuracy_score(y_test, y_pred))\n",
        "print(\"Classification Report:\\n\", classification_report(y_test, y_pred))\n",
        "print(\"Confusion Matrix:\\n\", confusion_matrix(y_test, y_pred))\n"
      ],
      "metadata": {
        "colab": {
          "base_uri": "https://localhost:8080/"
        },
        "id": "BPten7pk6Szk",
        "outputId": "8a46d5dc-2efb-428a-c78d-6bcd0bf5d048"
      },
      "execution_count": 23,
      "outputs": [
        {
          "output_type": "stream",
          "name": "stdout",
          "text": [
            "Accuracy: 0.09090909090909091\n",
            "Classification Report:\n",
            "               precision    recall  f1-score   support\n",
            "\n",
            "           0       0.00      0.00      0.00         0\n",
            "           1       0.00      0.00      0.00         0\n",
            "           7       0.00      0.00      0.00         1\n",
            "          10       0.50      1.00      0.67         1\n",
            "          11       0.00      0.00      0.00         0\n",
            "          15       0.00      0.00      0.00         1\n",
            "          17       0.00      0.00      0.00         1\n",
            "          18       0.00      0.00      0.00         2\n",
            "          20       0.00      0.00      0.00         1\n",
            "          21       0.00      0.00      0.00         0\n",
            "          22       0.00      0.00      0.00         1\n",
            "          23       0.00      0.00      0.00         0\n",
            "          24       0.00      0.00      0.00         1\n",
            "          25       0.00      0.00      0.00         0\n",
            "          27       0.00      0.00      0.00         0\n",
            "          28       0.00      0.00      0.00         1\n",
            "          31       0.00      0.00      0.00         0\n",
            "          32       1.00      1.00      1.00         1\n",
            "          33       0.00      0.00      0.00         0\n",
            "          35       0.00      0.00      0.00         0\n",
            "          36       0.00      0.00      0.00         0\n",
            "          38       0.00      0.00      0.00         1\n",
            "          40       0.00      0.00      0.00         1\n",
            "          44       0.00      0.00      0.00         0\n",
            "          45       0.00      0.00      0.00         1\n",
            "          49       0.00      0.00      0.00         0\n",
            "          52       0.00      0.00      0.00         1\n",
            "          54       0.00      0.00      0.00         1\n",
            "          56       0.00      0.00      0.00         1\n",
            "          61       0.00      0.00      0.00         1\n",
            "          63       0.00      0.00      0.00         1\n",
            "          68       0.00      0.00      0.00         1\n",
            "          71       0.00      0.00      0.00         1\n",
            "          75       0.00      0.00      0.00         1\n",
            "\n",
            "    accuracy                           0.09        22\n",
            "   macro avg       0.04      0.06      0.05        22\n",
            "weighted avg       0.07      0.09      0.08        22\n",
            "\n",
            "Confusion Matrix:\n",
            " [[0 0 0 ... 0 0 0]\n",
            " [0 0 0 ... 0 0 0]\n",
            " [0 1 0 ... 0 0 0]\n",
            " ...\n",
            " [0 0 0 ... 0 0 0]\n",
            " [1 0 0 ... 0 0 0]\n",
            " [0 0 0 ... 0 0 0]]\n"
          ]
        },
        {
          "output_type": "stream",
          "name": "stderr",
          "text": [
            "/usr/local/lib/python3.10/dist-packages/sklearn/metrics/_classification.py:1344: UndefinedMetricWarning: Precision and F-score are ill-defined and being set to 0.0 in labels with no predicted samples. Use `zero_division` parameter to control this behavior.\n",
            "  _warn_prf(average, modifier, msg_start, len(result))\n",
            "/usr/local/lib/python3.10/dist-packages/sklearn/metrics/_classification.py:1344: UndefinedMetricWarning: Recall and F-score are ill-defined and being set to 0.0 in labels with no true samples. Use `zero_division` parameter to control this behavior.\n",
            "  _warn_prf(average, modifier, msg_start, len(result))\n",
            "/usr/local/lib/python3.10/dist-packages/sklearn/metrics/_classification.py:1344: UndefinedMetricWarning: Precision and F-score are ill-defined and being set to 0.0 in labels with no predicted samples. Use `zero_division` parameter to control this behavior.\n",
            "  _warn_prf(average, modifier, msg_start, len(result))\n",
            "/usr/local/lib/python3.10/dist-packages/sklearn/metrics/_classification.py:1344: UndefinedMetricWarning: Recall and F-score are ill-defined and being set to 0.0 in labels with no true samples. Use `zero_division` parameter to control this behavior.\n",
            "  _warn_prf(average, modifier, msg_start, len(result))\n",
            "/usr/local/lib/python3.10/dist-packages/sklearn/metrics/_classification.py:1344: UndefinedMetricWarning: Precision and F-score are ill-defined and being set to 0.0 in labels with no predicted samples. Use `zero_division` parameter to control this behavior.\n",
            "  _warn_prf(average, modifier, msg_start, len(result))\n",
            "/usr/local/lib/python3.10/dist-packages/sklearn/metrics/_classification.py:1344: UndefinedMetricWarning: Recall and F-score are ill-defined and being set to 0.0 in labels with no true samples. Use `zero_division` parameter to control this behavior.\n",
            "  _warn_prf(average, modifier, msg_start, len(result))\n"
          ]
        }
      ]
    },
    {
      "cell_type": "markdown",
      "source": [
        "**b. Clustering with K-means:**\n",
        "Apply the K-means clustering algorithm for unsupervised learning. Use Scikit-learn to implement the K-means algorithm for clustering data points. Visualize and analyze the clustered data to gain insights."
      ],
      "metadata": {
        "id": "8iA8V5XKF4Ri"
      }
    },
    {
      "cell_type": "code",
      "source": [
        "import numpy as np\n",
        "import matplotlib.pyplot as plt\n",
        "from sklearn.cluster import KMeans\n",
        "\n",
        "\n",
        "np.random.seed(0)\n",
        "X = np.random.rand(100, 2)\n",
        "\n",
        "kmeans = KMeans(n_clusters=3, random_state=0)\n",
        "kmeans.fit(X)\n",
        "y_kmeans = kmeans.predict(X)\n",
        "\n",
        "plt.scatter(X[:, 0], X[:, 1], c=y_kmeans, s=50, cmap='viridis')\n",
        "\n",
        "centers = kmeans.cluster_centers_\n",
        "plt.scatter(centers[:, 0], centers[:, 1], c='red', s=200, alpha=0.5)\n",
        "\n",
        "plt.xlabel('Feature 1')\n",
        "plt.ylabel('Feature 2')\n",
        "plt.title('K-means Clustering')\n",
        "plt.show()\n"
      ],
      "metadata": {
        "colab": {
          "base_uri": "https://localhost:8080/",
          "height": 527
        },
        "id": "QshfSkOZ7QCj",
        "outputId": "16ccd28f-854d-449b-939b-3115f3cfe08d"
      },
      "execution_count": 26,
      "outputs": [
        {
          "output_type": "stream",
          "name": "stderr",
          "text": [
            "/usr/local/lib/python3.10/dist-packages/sklearn/cluster/_kmeans.py:870: FutureWarning: The default value of `n_init` will change from 10 to 'auto' in 1.4. Set the value of `n_init` explicitly to suppress the warning\n",
            "  warnings.warn(\n"
          ]
        },
        {
          "output_type": "display_data",
          "data": {
            "text/plain": [
              "<Figure size 640x480 with 1 Axes>"
            ],
            "image/png": "[encoded data removed]"
          },
          "metadata": {}
        }
      ]
    },
    {
      "cell_type": "markdown",
      "source": [
        "**c. Implementation of Gradient Descent**\n",
        "Implement gradient descent for linear regression to find the best-fitting line. Apply gradient descent to optimize the logistic regression model for binary classification."
      ],
      "metadata": {
        "id": "lfKTp9h8GlX9"
      }
    },
    {
      "cell_type": "code",
      "source": [
        "import numpy as np\n",
        "import matplotlib.pyplot as plt\n",
        "\n",
        "\n",
        "np.random.seed(0)\n",
        "X = 2 * np.random.rand(100, 1)\n",
        "y = 4 + 3 * X + np.random.randn(100, 1)\n",
        "\n",
        "\n",
        "X_b = np.c_[np.ones((100, 1)), X]\n",
        "\n",
        "eta = 0.1\n",
        "n_iterations = 1000\n",
        "m = 100\n",
        "\n",
        "theta = np.random.randn(2,1)\n",
        "\n",
        "\n",
        "for iteration in range(n_iterations):\n",
        "    gradients = 2/m * X_b.T.dot(X_b.dot(theta) - y)\n",
        "    theta = theta - eta * gradients\n",
        "\n",
        "\n",
        "print(\"Optimized theta:\", theta)\n",
        "\n",
        "plt.scatter(X, y)\n",
        "plt.plot(X, X_b.dot(theta), color='red')\n",
        "plt.xlabel('X')\n",
        "plt.ylabel('y')\n",
        "plt.title('Linear Regression with Gradient Descent')\n",
        "plt.show()\n"
      ],
      "metadata": {
        "colab": {
          "base_uri": "https://localhost:8080/",
          "height": 507
        },
        "id": "38aQYc5970EU",
        "outputId": "01437923-3776-4fc8-8986-a0faf9f48b2e"
      },
      "execution_count": 27,
      "outputs": [
        {
          "output_type": "stream",
          "name": "stdout",
          "text": [
            "Optimized theta: [[4.22215108]\n",
            " [2.96846751]]\n"
          ]
        },
        {
          "output_type": "display_data",
          "data": {
            "text/plain": [
              "<Figure size 640x480 with 1 Axes>"
            ],
            "image/png": "[encoded data removed]"
          },
          "metadata": {}
        }
      ]
    },
    {
      "cell_type": "markdown",
      "source": [
        "**d. Data Normalization and Scaling**\n",
        "Implement data normalization and scaling techniques to preprocess datasets. Observe the impact of preprocessing on the performance of machine learning algorithms."
      ],
      "metadata": {
        "id": "8ArHD3T6G5t8"
      }
    },
    {
      "cell_type": "markdown",
      "source": [
        "**Step:1**\n",
        "Load Dataset"
      ],
      "metadata": {
        "id": "6P2LmI0OHrKf"
      }
    },
    {
      "cell_type": "code",
      "source": [
        "import numpy as np\n",
        "import pandas as pd\n",
        "\n",
        "np.random.seed(0)\n",
        "data = {\n",
        "    'Per-continent': np.random.randint(100, 1000, 10),\n",
        "    'Country': np.random.randint(1, 100, 10)\n",
        "}\n",
        "df = pd.DataFrame(data)\n",
        "print(\"Original Dataset:\")\n",
        "print(df)\n"
      ],
      "metadata": {
        "colab": {
          "base_uri": "https://localhost:8080/"
        },
        "id": "70osGfERChGz",
        "outputId": "b42b8a6c-2554-4043-a057-365dab7cd16d"
      },
      "execution_count": 39,
      "outputs": [
        {
          "output_type": "stream",
          "name": "stdout",
          "text": [
            "Original Dataset:\n",
            "   Per-continent  Country\n",
            "0            784       22\n",
            "1            659       37\n",
            "2            729       88\n",
            "3            292       71\n",
            "4            935       89\n",
            "5            863       89\n",
            "6            807       13\n",
            "7            459       59\n",
            "8            109       66\n",
            "9            823       40\n"
          ]
        }
      ]
    },
    {
      "cell_type": "markdown",
      "source": [
        "**Step:2**\n",
        "Normalization and Scaling techniques"
      ],
      "metadata": {
        "id": "ORy5eOV9Hyq3"
      }
    },
    {
      "cell_type": "code",
      "source": [
        "from sklearn.preprocessing import MinMaxScaler, StandardScaler\n",
        "\n",
        "# scaling\n",
        "scaler_minmax = MinMaxScaler()\n",
        "df_minmax = scaler_minmax.fit_transform(df)\n",
        "df_minmax = pd.DataFrame(df_minmax, columns=df.columns)\n",
        "print(\"\\nScaled Dataset:\")\n",
        "print(df_minmax)\n",
        "\n",
        "# normalization\n",
        "scaler_standard = StandardScaler()\n",
        "df_standard = scaler_standard.fit_transform(df)\n",
        "df_standard = pd.DataFrame(df_standard, columns=df.columns)\n",
        "print(\"\\nNormalized Dataset:\")\n",
        "print(df_standard)\n"
      ],
      "metadata": {
        "colab": {
          "base_uri": "https://localhost:8080/"
        },
        "id": "Tv9aSqK_CmA-",
        "outputId": "48d1f591-8eec-438b-f96d-b6ea02482d6f"
      },
      "execution_count": 42,
      "outputs": [
        {
          "output_type": "stream",
          "name": "stdout",
          "text": [
            "\n",
            "Scaled Dataset:\n",
            "   Per-continent   Country\n",
            "0       0.817191  0.118421\n",
            "1       0.665860  0.315789\n",
            "2       0.750605  0.986842\n",
            "3       0.221550  0.763158\n",
            "4       1.000000  1.000000\n",
            "5       0.912833  1.000000\n",
            "6       0.845036  0.000000\n",
            "7       0.423729  0.605263\n",
            "8       0.000000  0.697368\n",
            "9       0.864407  0.355263\n",
            "\n",
            "Normalized Dataset:\n",
            "   Per-continent   Country\n",
            "0       0.536103 -1.324960\n",
            "1       0.050502 -0.763536\n",
            "2       0.322439  1.145305\n",
            "3      -1.375220  0.509024\n",
            "4       1.122708  1.182733\n",
            "5       0.843002  1.182733\n",
            "6       0.625453 -1.661814\n",
            "7      -0.726458  0.059885\n",
            "8      -2.086139  0.321883\n",
            "9       0.687610 -0.651252\n"
          ]
        }
      ]
    },
    {
      "cell_type": "markdown",
      "source": [
        "**e. Basic Convolution Neural Networks Implement basic Convolutional Neural Networks (CNNs) using Keras**"
      ],
      "metadata": {
        "id": "W84s5RUPH-RS"
      }
    },
    {
      "cell_type": "code",
      "source": [
        "import numpy as np\n",
        "from tensorflow.keras.models import Sequential\n",
        "from tensorflow.keras.layers import Conv2D, MaxPooling2D, Flatten, Dense\n",
        "\n",
        "np.random.seed(0)\n",
        "train_images = np.random.rand(100, 28, 28, 3)\n",
        "train_labels = np.random.randint(0, 2, 100)\n",
        "test_images = np.random.rand(20, 28, 28, 3)\n",
        "test_labels = np.random.randint(0, 2, 20)\n",
        "\n",
        "model = Sequential()\n",
        "model.add(Conv2D(32, (3, 3), activation='relu', input_shape=(28, 28, 3)))\n",
        "model.add(MaxPooling2D((2, 2)))\n",
        "model.add(Conv2D(64, (3, 3), activation='relu'))\n",
        "model.add(MaxPooling2D((2, 2)))\n",
        "model.add(Conv2D(64, (3, 3), activation='relu'))\n",
        "model.add(Flatten())\n",
        "model.add(Dense(64, activation='relu'))\n",
        "model.add(Dense(1, activation='sigmoid'))\n",
        "\n",
        "model.compile(optimizer='adam', loss='binary_crossentropy', metrics=['accuracy'])\n",
        "\n",
        "model.fit(train_images, train_labels, epochs=5, batch_size=16, validation_data=(test_images, test_labels))\n",
        "\n",
        "test_loss, test_acc = model.evaluate(test_images, test_labels)\n",
        "print('Test accuracy:', test_acc)\n"
      ],
      "metadata": {
        "colab": {
          "base_uri": "https://localhost:8080/"
        },
        "id": "cPE-Q0_xDGxg",
        "outputId": "9d962865-ef78-4aef-9bbc-cdb5dc94ad47"
      },
      "execution_count": 41,
      "outputs": [
        {
          "output_type": "stream",
          "name": "stdout",
          "text": [
            "Epoch 1/5\n",
            "7/7 [==============================] - 2s 56ms/step - loss: 0.7067 - accuracy: 0.5500 - val_loss: 0.7250 - val_accuracy: 0.2500\n",
            "Epoch 2/5\n",
            "7/7 [==============================] - 0s 23ms/step - loss: 0.6881 - accuracy: 0.5500 - val_loss: 0.7598 - val_accuracy: 0.2500\n",
            "Epoch 3/5\n",
            "7/7 [==============================] - 0s 25ms/step - loss: 0.7075 - accuracy: 0.5500 - val_loss: 0.7756 - val_accuracy: 0.2500\n",
            "Epoch 4/5\n",
            "7/7 [==============================] - 0s 22ms/step - loss: 0.6846 - accuracy: 0.5700 - val_loss: 0.6953 - val_accuracy: 0.4000\n",
            "Epoch 5/5\n",
            "7/7 [==============================] - 0s 22ms/step - loss: 0.6870 - accuracy: 0.8300 - val_loss: 0.6981 - val_accuracy: 0.3500\n",
            "1/1 [==============================] - 0s 30ms/step - loss: 0.6981 - accuracy: 0.3500\n",
            "Test accuracy: 0.3499999940395355\n"
          ]
        }
      ]
    }
  ]
}